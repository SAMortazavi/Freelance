{
  "nbformat": 4,
  "nbformat_minor": 0,
  "metadata": {
    "colab": {
      "provenance": []
    },
    "kernelspec": {
      "name": "python3",
      "display_name": "Python 3"
    },
    "language_info": {
      "name": "python"
    }
  },
  "cells": [
    {
      "cell_type": "code",
      "execution_count": 20,
      "metadata": {
        "id": "PwlaYklj_gmY"
      },
      "outputs": [],
      "source": [
        "import torch\n",
        "import cv2\n",
        "from PIL import Image\n",
        "import numpy as np\n",
        "import matplotlib.pyplot as plt\n"
      ]
    },
    {
      "cell_type": "code",
      "source": [
        "model = torch.hub.load('ultralytics/yolov5', 'yolov5s')"
      ],
      "metadata": {
        "colab": {
          "base_uri": "https://localhost:8080/"
        },
        "id": "PwpiMbscHIdR",
        "outputId": "11e0ff08-1d2d-49cc-ab40-75090f63616a"
      },
      "execution_count": 21,
      "outputs": [
        {
          "output_type": "stream",
          "name": "stderr",
          "text": [
            "Using cache found in /root/.cache/torch/hub/ultralytics_yolov5_master\n",
            "YOLOv5 🚀 2024-5-27 Python-3.10.12 torch-2.3.0+cu121 CPU\n",
            "\n",
            "Fusing layers... \n",
            "YOLOv5s summary: 213 layers, 7225885 parameters, 0 gradients, 16.4 GFLOPs\n",
            "Adding AutoShape... \n"
          ]
        }
      ]
    },
    {
      "cell_type": "code",
      "source": [
        "def detect_and_save_objects(image_path, save_path, target_class=None):\n",
        "    \"\"\"\n",
        "    Detect objects in an image, overlay them on a white background with bounding boxes, and save the result.\n",
        "\n",
        "    Parameters:\n",
        "    - image_path: Path to the input image.\n",
        "    - save_path: Path to save the output image.\n",
        "    - target_class: Class ID of the objects to detect and overlay. If None, all detected objects are used.\n",
        "    \"\"\"\n",
        "    # Load image\n",
        "    img = Image.open(image_path)\n",
        "\n",
        "    # Perform object detection\n",
        "    results = model(img)\n",
        "    detections = results.pred[0].cpu().numpy()\n",
        "\n",
        "    # Filter detections by target_class if provided\n",
        "    if target_class is not None:\n",
        "        detections = [det for det in detections if det[5] == target_class]\n",
        "\n",
        "    print(f'Number of objects detected: {len(detections)}')\n",
        "\n",
        "    # Create a white background image\n",
        "    white_bg = np.ones_like(np.array(img)) * 255\n",
        "\n",
        "    # Overlay each detected object with its bounding box on the white background\n",
        "    for *box, conf, cls in detections:\n",
        "        x1, y1, x2, y2 = map(int, box)\n",
        "        object_img = np.array(img)[y1:y2, x1:x2]\n",
        "        white_bg[y1:y2, x1:x2] = object_img\n",
        "\n",
        "        # Draw bounding box\n",
        "        cv2.rectangle(white_bg, (x1, y1), (x2, y2), (0, 255, 0), 2)\n",
        "\n",
        "    # Convert the white background image to PIL Image and display\n",
        "    white_bg_image = Image.fromarray(white_bg.astype('uint8'))\n",
        "    plt.imshow(white_bg_image)\n",
        "    plt.axis('off')  # Hide axes\n",
        "    plt.show()\n",
        "\n",
        "    # Save the image\n",
        "    white_bg_image.save(save_path)\n",
        "    print(f\"Image saved successfully at {save_path}\")"
      ],
      "metadata": {
        "id": "sEuQh-Hk_6Fo"
      },
      "execution_count": 22,
      "outputs": []
    },
    {
      "cell_type": "code",
      "source": [
        "detect_and_save_objects('/content/cars.jpg', '/content/cars_with_bounding_boxes.jpg', target_class=2)  # Detect cars\n",
        "detect_and_save_objects('/content/pedestrians.jpg', '/content/pedestrians_with_bounding_boxes.jpg')    # Detect all objects"
      ],
      "metadata": {
        "colab": {
          "base_uri": "https://localhost:8080/"
        },
        "id": "_m14EZwQHX8L",
        "outputId": "e5a3cce6-1713-4f4a-a16d-a7d3471df374"
      },
      "execution_count": 24,
      "outputs": [
        {
          "output_type": "stream",
          "name": "stdout",
          "text": [
            "Number of objects detected: 6\n",
            "Image saved successfully at /content/cars_with_bounding_boxes.jpg\n",
            "Number of objects detected: 20\n",
            "Image saved successfully at /content/pedestrians_with_bounding_boxes.jpg\n"
          ]
        }
      ]
    }
  ]
}